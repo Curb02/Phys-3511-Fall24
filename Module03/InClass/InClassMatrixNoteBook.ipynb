{
 "cells": [
  {
   "cell_type": "code",
   "execution_count": 29,
   "id": "dae51a1e-fd47-4acd-960b-9f38fbbcb94c",
   "metadata": {},
   "outputs": [],
   "source": [
    "import numpy as np\n",
    "%matplotlib inline\n"
   ]
  },
  {
   "cell_type": "code",
   "execution_count": 30,
   "id": "7342bee1-ff9a-4502-84ba-cb7bcfc563a0",
   "metadata": {},
   "outputs": [
    {
     "name": "stdout",
     "output_type": "stream",
     "text": [
      "A:\n",
      " [[ 2  4 -7]\n",
      " [ 3 -3  0]\n",
      " [ 1  7  5]]\n",
      "A:\n",
      " [[ 2  4]\n",
      " [-3  3]\n",
      " [ 1  7]]\n",
      "A:\n",
      " [[-1  1]\n",
      " [ 1 -1]]\n",
      "A:\n",
      " [[ 2  0]\n",
      " [-3  6]]\n"
     ]
    }
   ],
   "source": [
    "#P0\n",
    "\n",
    "A = np.array([ [2,4,-7],[3,-3,0],[1,7,5] ])\n",
    "B = np.array([ [2,4],[-3,3],[1,7] ])\n",
    "C = np.array([ [-1,1],[1,-1]])\n",
    "D = np.array([ [2,0],[-3,6]])\n",
    "\n",
    "print(\"A:\\n\",A)\n",
    "print(\"A:\\n\",B)\n",
    "print(\"A:\\n\",C)\n",
    "print(\"A:\\n\",D)"
   ]
  },
  {
   "cell_type": "code",
   "execution_count": 31,
   "id": "76702a16-a4a1-4e55-a1e8-178b9fc66d9a",
   "metadata": {},
   "outputs": [
    {
     "name": "stdout",
     "output_type": "stream",
     "text": [
      "CA:\n",
      " [[  5.   10.  -17.5]\n",
      " [  7.5  -7.5   0. ]\n",
      " [  2.5  17.5  12.5]]\n"
     ]
    }
   ],
   "source": [
    "#P1\n",
    "c = 2.5\n",
    "CA = c*A\n",
    "print(\"CA:\\n\",CA)"
   ]
  },
  {
   "cell_type": "code",
   "execution_count": 32,
   "id": "369877f2-9151-42fc-aa27-c9936052962d",
   "metadata": {},
   "outputs": [
    {
     "name": "stdout",
     "output_type": "stream",
     "text": [
      "CD = \n",
      " [[-5  6]\n",
      " [ 5 -6]]\n",
      "DC = \n",
      " [[-2  2]\n",
      " [ 9 -9]]\n"
     ]
    }
   ],
   "source": [
    "#P2\n",
    "#CA = np.matmul(C,A)\n",
    "#print(\"CA = \\n\",CA)\n",
    "CD = np.matmul(C,D)\n",
    "print(\"CD = \\n\",CD)\n",
    "DC = np.matmul(D,C)\n",
    "print(\"DC = \\n\",DC)\n",
    "\n"
   ]
  },
  {
   "cell_type": "code",
   "execution_count": 33,
   "id": "7f42ac1e-1406-4565-995a-ba634e33a025",
   "metadata": {},
   "outputs": [
    {
     "name": "stdout",
     "output_type": "stream",
     "text": [
      "B_T:\n",
      " [[ 2 -3  1]\n",
      " [ 4  3  7]]\n"
     ]
    }
   ],
   "source": [
    "#P3\n",
    "B_T = B.T\n",
    "print(\"B_T:\\n\",B_T)"
   ]
  },
  {
   "cell_type": "code",
   "execution_count": 34,
   "id": "4d19cd15-dcef-4ddd-80a2-bc9c00d77c38",
   "metadata": {},
   "outputs": [
    {
     "name": "stdout",
     "output_type": "stream",
     "text": [
      "\n",
      "C+D:\n",
      " [[ 1  1]\n",
      " [-2  5]]\n"
     ]
    }
   ],
   "source": [
    "#P4\n",
    "CD_add = C + D\n",
    "print(\"\\nC+D:\\n\",CD_add)"
   ]
  },
  {
   "cell_type": "code",
   "execution_count": 35,
   "id": "ccd94b3b-ef5a-4ab2-8d8c-bfbd90d94361",
   "metadata": {},
   "outputs": [
    {
     "name": "stdout",
     "output_type": "stream",
     "text": [
      "0.0\n"
     ]
    }
   ],
   "source": [
    "#P5\n",
    "detC = np.linalg.det(C)\n",
    "print(detC)"
   ]
  },
  {
   "cell_type": "code",
   "execution_count": 36,
   "id": "ea94c07a-7030-4300-aeec-e3cf5ee50262",
   "metadata": {},
   "outputs": [
    {
     "name": "stdout",
     "output_type": "stream",
     "text": [
      "-257.9999999999998\n"
     ]
    }
   ],
   "source": [
    "#P6\n",
    "detA = np.linalg.det(A)\n",
    "print(detA)"
   ]
  },
  {
   "cell_type": "code",
   "execution_count": null,
   "id": "469d85d2-2b53-474e-bd1c-9c6b7c1a66b8",
   "metadata": {},
   "outputs": [],
   "source": []
  }
 ],
 "metadata": {
  "kernelspec": {
   "display_name": "Python 3 (ipykernel)",
   "language": "python",
   "name": "python3"
  },
  "language_info": {
   "codemirror_mode": {
    "name": "ipython",
    "version": 3
   },
   "file_extension": ".py",
   "mimetype": "text/x-python",
   "name": "python",
   "nbconvert_exporter": "python",
   "pygments_lexer": "ipython3",
   "version": "3.9.13"
  }
 },
 "nbformat": 4,
 "nbformat_minor": 5
}
