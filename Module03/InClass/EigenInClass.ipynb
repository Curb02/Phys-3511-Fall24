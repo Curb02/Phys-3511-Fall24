{
 "cells": [
  {
   "cell_type": "code",
   "execution_count": 3,
   "id": "a83d86e9-b974-412b-82bd-9a42de3c3b6c",
   "metadata": {},
   "outputs": [],
   "source": [
    "import numpy as np\n",
    "import matplotlib.pyplot as plt\n",
    "%matplotlib inline"
   ]
  },
  {
   "cell_type": "code",
   "execution_count": 4,
   "id": "73d6168d-8403-4f2a-9fcc-8e4fb033492d",
   "metadata": {},
   "outputs": [
    {
     "name": "stdout",
     "output_type": "stream",
     "text": [
      "[[ 0  1]\n",
      " [-2 -3]]\n"
     ]
    }
   ],
   "source": [
    "A = np.array([[0,1],[-2,-3]])\n",
    "print(A)"
   ]
  },
  {
   "cell_type": "code",
   "execution_count": 5,
   "id": "8c00bd3f-75bc-4977-8e50-8927d783342e",
   "metadata": {},
   "outputs": [
    {
     "name": "stdout",
     "output_type": "stream",
     "text": [
      "E-value: [-1. -2.]\n",
      "E-vector [[ 0.70710678 -0.4472136 ]\n",
      " [-0.70710678  0.89442719]]\n"
     ]
    }
   ],
   "source": [
    "\n",
    "w,v = np.linalg.eig(A)\n",
    "print('E-value:', w)\n",
    "print('E-vector', v)"
   ]
  },
  {
   "cell_type": "code",
   "execution_count": 7,
   "id": "de023faf-82b7-4e85-b524-d44a223daaa2",
   "metadata": {},
   "outputs": [
    {
     "name": "stdout",
     "output_type": "stream",
     "text": [
      "[[11 -1  0]\n",
      " [-1 12 -1]\n",
      " [ 0 -1 11]]\n"
     ]
    }
   ],
   "source": [
    "#Problem Begins Part 1:Defining Matrix\n",
    "\n",
    "B = np.array([[11,-1,0],[-1,12,-1],[0,-1,11]])\n",
    "print(B)\n"
   ]
  },
  {
   "cell_type": "code",
   "execution_count": 8,
   "id": "8ff4a811-bf91-4e3a-b307-b80af34b9a29",
   "metadata": {},
   "outputs": [
    {
     "name": "stdout",
     "output_type": "stream",
     "text": [
      "E-value: [13. 11. 10.]\n",
      "E-vector [[-4.08248290e-01 -7.07106781e-01  5.77350269e-01]\n",
      " [ 8.16496581e-01  1.03471073e-15  5.77350269e-01]\n",
      " [-4.08248290e-01  7.07106781e-01  5.77350269e-01]]\n"
     ]
    }
   ],
   "source": [
    "#Part 2: finding eigenvaules and eigenvectors\n",
    "\n",
    "w,v = np.linalg.eig(B)\n",
    "print('E-value:', w)\n",
    "print('E-vector', v)"
   ]
  },
  {
   "cell_type": "code",
   "execution_count": null,
   "id": "5d9fa28d-f8b7-4fd0-b1b3-61eb9dc6e82c",
   "metadata": {},
   "outputs": [],
   "source": []
  }
 ],
 "metadata": {
  "kernelspec": {
   "display_name": "Python 3 (ipykernel)",
   "language": "python",
   "name": "python3"
  },
  "language_info": {
   "codemirror_mode": {
    "name": "ipython",
    "version": 3
   },
   "file_extension": ".py",
   "mimetype": "text/x-python",
   "name": "python",
   "nbconvert_exporter": "python",
   "pygments_lexer": "ipython3",
   "version": "3.9.13"
  }
 },
 "nbformat": 4,
 "nbformat_minor": 5
}
