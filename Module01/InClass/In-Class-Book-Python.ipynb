{
 "cells": [
  {
   "cell_type": "code",
   "execution_count": 30,
   "id": "71077795-16c8-4aa6-aa68-96e777e7090d",
   "metadata": {},
   "outputs": [
    {
     "name": "stdout",
     "output_type": "stream",
     "text": [
      "['who', 'Ya', 'gonna', 'call']\n"
     ]
    }
   ],
   "source": [
    "list1 = ['wh','Y','gon','ca']\n",
    "list2 = ['o','a','na','ll']\n",
    "list3 = []\n",
    "\n",
    "for i in range(len(list1)):\n",
    "    list3.append(list1[i] + list2[i])\n",
    "print(list3)\n"
   ]
  },
  {
   "cell_type": "code",
   "execution_count": 21,
   "id": "c2b00d83-e6d2-435c-9c0d-323e9188b6c5",
   "metadata": {},
   "outputs": [
    {
     "name": "stdout",
     "output_type": "stream",
     "text": [
      "Current Number:  0 Previous Number:  0 Sum:  0\n",
      "Current Number:  1 Previous Number:  0 Sum:  1\n",
      "Current Number:  2 Previous Number:  1 Sum:  3\n",
      "Current Number:  3 Previous Number:  2 Sum:  5\n",
      "Current Number:  4 Previous Number:  3 Sum:  7\n",
      "Current Number:  5 Previous Number:  4 Sum:  9\n",
      "Current Number:  6 Previous Number:  5 Sum:  11\n",
      "Current Number:  7 Previous Number:  6 Sum:  13\n",
      "Current Number:  8 Previous Number:  7 Sum:  15\n",
      "Current Number:  9 Previous Number:  8 Sum:  17\n"
     ]
    }
   ],
   "source": [
    "previousnumber = 0\n",
    "\n",
    "for currentnumber in range(10):\n",
    "    sum = previousnumber + currentnumber\n",
    "    print(\"Current Number: \", currentnumber, \"Previous Number: \", previousnumber,\"Sum: \", sum)\n",
    "    previousnumber = currentnumber"
   ]
  },
  {
   "cell_type": "code",
   "execution_count": 18,
   "id": "350f0e0e-9138-4fc7-a13f-06bdb6c5835e",
   "metadata": {},
   "outputs": [
    {
     "name": "stdout",
     "output_type": "stream",
     "text": [
      "Odd\n",
      "Even\n",
      "Even\n",
      "Odd\n",
      "integer is zero\n"
     ]
    }
   ],
   "source": [
    "\n",
    "\n",
    "def is_odd(number):\n",
    "    if number > 0:\n",
    "        if number % 2 == 0:\n",
    "            print(\"Even\")\n",
    "        else:\n",
    "            print(\"Odd\")\n",
    "    else:\n",
    "        print(\"integer is zero\")\n",
    "is_odd(1)\n",
    "is_odd(2)\n",
    "is_odd(4)\n",
    "is_odd(7)\n",
    "is_odd(0)\n",
    "    "
   ]
  },
  {
   "cell_type": "code",
   "execution_count": 31,
   "id": "8c95ea73-8ae6-448e-b091-3bbbe587ee1d",
   "metadata": {},
   "outputs": [
    {
     "name": "stdout",
     "output_type": "stream",
     "text": [
      "0 5 10 15\n"
     ]
    }
   ],
   "source": [
    "tuple1 = (0, 5, 10, 15)\n",
    "a, b, c, d = tuple1\n",
    "print(a,b,c,d)"
   ]
  },
  {
   "cell_type": "code",
   "execution_count": null,
   "id": "74e1306f-480a-4741-913f-6126e26b9fc4",
   "metadata": {},
   "outputs": [],
   "source": []
  }
 ],
 "metadata": {
  "kernelspec": {
   "display_name": "Python 3 (ipykernel)",
   "language": "python",
   "name": "python3"
  },
  "language_info": {
   "codemirror_mode": {
    "name": "ipython",
    "version": 3
   },
   "file_extension": ".py",
   "mimetype": "text/x-python",
   "name": "python",
   "nbconvert_exporter": "python",
   "pygments_lexer": "ipython3",
   "version": "3.9.13"
  }
 },
 "nbformat": 4,
 "nbformat_minor": 5
}
